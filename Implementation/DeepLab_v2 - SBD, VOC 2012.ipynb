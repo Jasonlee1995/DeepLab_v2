{
 "cells": [
  {
   "cell_type": "markdown",
   "metadata": {},
   "source": [
    "# DeepLab_v2\n",
    "\n",
    "## 1. Environment Setup\n",
    "### 1.0. Check GPU"
   ]
  },
  {
   "cell_type": "code",
   "execution_count": 1,
   "metadata": {},
   "outputs": [
    {
     "name": "stdout",
     "output_type": "stream",
     "text": [
      "nvcc: NVIDIA (R) Cuda compiler driver\r\n",
      "Copyright (c) 2005-2020 NVIDIA Corporation\r\n",
      "Built on Wed_Jul_22_19:09:09_PDT_2020\r\n",
      "Cuda compilation tools, release 11.0, V11.0.221\r\n",
      "Build cuda_11.0_bu.TC445_37.28845127_0\r\n"
     ]
    }
   ],
   "source": [
    "!nvcc --version"
   ]
  },
  {
   "cell_type": "code",
   "execution_count": null,
   "metadata": {},
   "outputs": [],
   "source": []
  },
  {
   "cell_type": "markdown",
   "metadata": {},
   "source": [
    "### 1.1. Import"
   ]
  },
  {
   "cell_type": "code",
   "execution_count": 2,
   "metadata": {},
   "outputs": [],
   "source": [
    "import augmentation, model\n",
    "\n",
    "import torch\n",
    "import torchvision\n",
    "\n",
    "# Ignore Warning\n",
    "import warnings\n",
    "warnings.filterwarnings(action='ignore')"
   ]
  },
  {
   "cell_type": "code",
   "execution_count": null,
   "metadata": {},
   "outputs": [],
   "source": []
  },
  {
   "cell_type": "markdown",
   "metadata": {},
   "source": [
    "## 2. Data Preprocessing"
   ]
  },
  {
   "cell_type": "code",
   "execution_count": 3,
   "metadata": {},
   "outputs": [],
   "source": [
    "# batch size more than 1 is not considered so use 1\n",
    "batch_size = 1"
   ]
  },
  {
   "cell_type": "code",
   "execution_count": 4,
   "metadata": {},
   "outputs": [],
   "source": [
    "transform = augmentation.Mask_Aug(transforms=[augmentation.PILToTensor_img(), augmentation.PILToTensor(), \n",
    "                                              augmentation.Resize(256)])\n",
    "\n",
    "dataset = torchvision.datasets.VOCSegmentation(root='./', year='2012', image_set='val', download=False, transforms=transform)\n",
    "loader = torch.utils.data.DataLoader(dataset, batch_size=batch_size, shuffle=False, num_workers=4, pin_memory=True)"
   ]
  },
  {
   "cell_type": "code",
   "execution_count": null,
   "metadata": {},
   "outputs": [],
   "source": []
  },
  {
   "cell_type": "markdown",
   "metadata": {},
   "source": [
    "## 3. Train Model"
   ]
  },
  {
   "cell_type": "code",
   "execution_count": 5,
   "metadata": {},
   "outputs": [],
   "source": [
    "num_classes = 21\n",
    "atrous_rates = [6, 12, 18, 24]\n",
    "scales = [0.5, 0.75, 1]\n",
    "\n",
    "gpu_id = 7\n",
    "weight_file = './best.pt'\n",
    "\n",
    "iter_max = 10\n",
    "bi_ws = range(3, 7)\n",
    "bi_xy_stds = range(30, 101, 10)\n",
    "bi_rgb_stds = range(3, 7)\n",
    "pos_ws = [3]\n",
    "pos_xy_stds = [3]"
   ]
  },
  {
   "cell_type": "code",
   "execution_count": 6,
   "metadata": {},
   "outputs": [],
   "source": [
    "DeepLab_v2 = model.DeepLab_v2(num_classes=num_classes, atrous_rates=atrous_rates, scales=scales,\n",
    "                              gpu_id=gpu_id, weight_file=weight_file)"
   ]
  },
  {
   "cell_type": "code",
   "execution_count": 7,
   "metadata": {
    "scrolled": false
   },
   "outputs": [
    {
     "name": "stdout",
     "output_type": "stream",
     "text": [
      "\n",
      "*********************************** Best mIoU Updated ***********************************\n",
      "bi_w : 3, bi_xy_std : 30, bi_rgb_std : 3, pos_w : 3, pos_xy_std : 3  mIoU : 73.6681\n",
      "\n",
      "*********************************** Best mIoU Updated ***********************************\n",
      "bi_w : 3, bi_xy_std : 30, bi_rgb_std : 4, pos_w : 3, pos_xy_std : 3  mIoU : 73.7161\n",
      "\n",
      "*********************************** Best mIoU Updated ***********************************\n",
      "bi_w : 3, bi_xy_std : 30, bi_rgb_std : 5, pos_w : 3, pos_xy_std : 3  mIoU : 73.7227\n",
      "bi_w : 3, bi_xy_std : 30, bi_rgb_std : 6, pos_w : 3, pos_xy_std : 3  mIoU : 73.7210\n",
      "\n",
      "*********************************** Best mIoU Updated ***********************************\n",
      "bi_w : 3, bi_xy_std : 40, bi_rgb_std : 3, pos_w : 3, pos_xy_std : 3  mIoU : 73.7376\n",
      "\n",
      "*********************************** Best mIoU Updated ***********************************\n",
      "bi_w : 3, bi_xy_std : 40, bi_rgb_std : 4, pos_w : 3, pos_xy_std : 3  mIoU : 73.7662\n",
      "\n",
      "*********************************** Best mIoU Updated ***********************************\n",
      "bi_w : 3, bi_xy_std : 40, bi_rgb_std : 5, pos_w : 3, pos_xy_std : 3  mIoU : 73.7700\n",
      "bi_w : 3, bi_xy_std : 40, bi_rgb_std : 6, pos_w : 3, pos_xy_std : 3  mIoU : 73.7625\n",
      "bi_w : 3, bi_xy_std : 50, bi_rgb_std : 3, pos_w : 3, pos_xy_std : 3  mIoU : 73.7683\n",
      "\n",
      "*********************************** Best mIoU Updated ***********************************\n",
      "bi_w : 3, bi_xy_std : 50, bi_rgb_std : 4, pos_w : 3, pos_xy_std : 3  mIoU : 73.7964\n",
      "bi_w : 3, bi_xy_std : 50, bi_rgb_std : 5, pos_w : 3, pos_xy_std : 3  mIoU : 73.7907\n",
      "bi_w : 3, bi_xy_std : 50, bi_rgb_std : 6, pos_w : 3, pos_xy_std : 3  mIoU : 73.7605\n",
      "bi_w : 3, bi_xy_std : 60, bi_rgb_std : 3, pos_w : 3, pos_xy_std : 3  mIoU : 73.7707\n",
      "bi_w : 3, bi_xy_std : 60, bi_rgb_std : 4, pos_w : 3, pos_xy_std : 3  mIoU : 73.7724\n",
      "bi_w : 3, bi_xy_std : 60, bi_rgb_std : 5, pos_w : 3, pos_xy_std : 3  mIoU : 73.7471\n",
      "bi_w : 3, bi_xy_std : 60, bi_rgb_std : 6, pos_w : 3, pos_xy_std : 3  mIoU : 73.7118\n",
      "bi_w : 3, bi_xy_std : 70, bi_rgb_std : 3, pos_w : 3, pos_xy_std : 3  mIoU : 73.7559\n",
      "bi_w : 3, bi_xy_std : 70, bi_rgb_std : 4, pos_w : 3, pos_xy_std : 3  mIoU : 73.7479\n",
      "bi_w : 3, bi_xy_std : 70, bi_rgb_std : 5, pos_w : 3, pos_xy_std : 3  mIoU : 73.7146\n",
      "bi_w : 3, bi_xy_std : 70, bi_rgb_std : 6, pos_w : 3, pos_xy_std : 3  mIoU : 73.6725\n",
      "bi_w : 3, bi_xy_std : 80, bi_rgb_std : 3, pos_w : 3, pos_xy_std : 3  mIoU : 73.7403\n",
      "bi_w : 3, bi_xy_std : 80, bi_rgb_std : 4, pos_w : 3, pos_xy_std : 3  mIoU : 73.7094\n",
      "bi_w : 3, bi_xy_std : 80, bi_rgb_std : 5, pos_w : 3, pos_xy_std : 3  mIoU : 73.6696\n",
      "bi_w : 3, bi_xy_std : 80, bi_rgb_std : 6, pos_w : 3, pos_xy_std : 3  mIoU : 73.6186\n",
      "bi_w : 3, bi_xy_std : 90, bi_rgb_std : 3, pos_w : 3, pos_xy_std : 3  mIoU : 73.7175\n",
      "bi_w : 3, bi_xy_std : 90, bi_rgb_std : 4, pos_w : 3, pos_xy_std : 3  mIoU : 73.6736\n",
      "bi_w : 3, bi_xy_std : 90, bi_rgb_std : 5, pos_w : 3, pos_xy_std : 3  mIoU : 73.6176\n",
      "bi_w : 3, bi_xy_std : 90, bi_rgb_std : 6, pos_w : 3, pos_xy_std : 3  mIoU : 73.5584\n",
      "bi_w : 3, bi_xy_std : 100, bi_rgb_std : 3, pos_w : 3, pos_xy_std : 3  mIoU : 73.6802\n",
      "bi_w : 3, bi_xy_std : 100, bi_rgb_std : 4, pos_w : 3, pos_xy_std : 3  mIoU : 73.6285\n",
      "bi_w : 3, bi_xy_std : 100, bi_rgb_std : 5, pos_w : 3, pos_xy_std : 3  mIoU : 73.5646\n",
      "bi_w : 3, bi_xy_std : 100, bi_rgb_std : 6, pos_w : 3, pos_xy_std : 3  mIoU : 73.4977\n",
      "\n",
      "*********************************** Best mIoU Updated ***********************************\n",
      "bi_w : 4, bi_xy_std : 30, bi_rgb_std : 3, pos_w : 3, pos_xy_std : 3  mIoU : 73.8104\n",
      "\n",
      "*********************************** Best mIoU Updated ***********************************\n",
      "bi_w : 4, bi_xy_std : 30, bi_rgb_std : 4, pos_w : 3, pos_xy_std : 3  mIoU : 73.8610\n",
      "\n",
      "*********************************** Best mIoU Updated ***********************************\n",
      "bi_w : 4, bi_xy_std : 30, bi_rgb_std : 5, pos_w : 3, pos_xy_std : 3  mIoU : 73.8658\n",
      "bi_w : 4, bi_xy_std : 30, bi_rgb_std : 6, pos_w : 3, pos_xy_std : 3  mIoU : 73.8564\n",
      "bi_w : 4, bi_xy_std : 40, bi_rgb_std : 3, pos_w : 3, pos_xy_std : 3  mIoU : 73.8619\n",
      "\n",
      "*********************************** Best mIoU Updated ***********************************\n",
      "bi_w : 4, bi_xy_std : 40, bi_rgb_std : 4, pos_w : 3, pos_xy_std : 3  mIoU : 73.8914\n",
      "bi_w : 4, bi_xy_std : 40, bi_rgb_std : 5, pos_w : 3, pos_xy_std : 3  mIoU : 73.8802\n",
      "bi_w : 4, bi_xy_std : 40, bi_rgb_std : 6, pos_w : 3, pos_xy_std : 3  mIoU : 73.8476\n",
      "\n",
      "*********************************** Best mIoU Updated ***********************************\n",
      "bi_w : 4, bi_xy_std : 50, bi_rgb_std : 3, pos_w : 3, pos_xy_std : 3  mIoU : 73.8991\n",
      "\n",
      "*********************************** Best mIoU Updated ***********************************\n",
      "bi_w : 4, bi_xy_std : 50, bi_rgb_std : 4, pos_w : 3, pos_xy_std : 3  mIoU : 73.9006\n",
      "bi_w : 4, bi_xy_std : 50, bi_rgb_std : 5, pos_w : 3, pos_xy_std : 3  mIoU : 73.8706\n",
      "bi_w : 4, bi_xy_std : 50, bi_rgb_std : 6, pos_w : 3, pos_xy_std : 3  mIoU : 73.8241\n",
      "bi_w : 4, bi_xy_std : 60, bi_rgb_std : 3, pos_w : 3, pos_xy_std : 3  mIoU : 73.8620\n",
      "bi_w : 4, bi_xy_std : 60, bi_rgb_std : 4, pos_w : 3, pos_xy_std : 3  mIoU : 73.8283\n",
      "bi_w : 4, bi_xy_std : 60, bi_rgb_std : 5, pos_w : 3, pos_xy_std : 3  mIoU : 73.7815\n",
      "bi_w : 4, bi_xy_std : 60, bi_rgb_std : 6, pos_w : 3, pos_xy_std : 3  mIoU : 73.7209\n",
      "bi_w : 4, bi_xy_std : 70, bi_rgb_std : 3, pos_w : 3, pos_xy_std : 3  mIoU : 73.8133\n",
      "bi_w : 4, bi_xy_std : 70, bi_rgb_std : 4, pos_w : 3, pos_xy_std : 3  mIoU : 73.7709\n",
      "bi_w : 4, bi_xy_std : 70, bi_rgb_std : 5, pos_w : 3, pos_xy_std : 3  mIoU : 73.7018\n",
      "bi_w : 4, bi_xy_std : 70, bi_rgb_std : 6, pos_w : 3, pos_xy_std : 3  mIoU : 73.6276\n",
      "bi_w : 4, bi_xy_std : 80, bi_rgb_std : 3, pos_w : 3, pos_xy_std : 3  mIoU : 73.7490\n",
      "bi_w : 4, bi_xy_std : 80, bi_rgb_std : 4, pos_w : 3, pos_xy_std : 3  mIoU : 73.6846\n",
      "bi_w : 4, bi_xy_std : 80, bi_rgb_std : 5, pos_w : 3, pos_xy_std : 3  mIoU : 73.5996\n",
      "bi_w : 4, bi_xy_std : 80, bi_rgb_std : 6, pos_w : 3, pos_xy_std : 3  mIoU : 73.5138\n",
      "bi_w : 4, bi_xy_std : 90, bi_rgb_std : 3, pos_w : 3, pos_xy_std : 3  mIoU : 73.6950\n",
      "bi_w : 4, bi_xy_std : 90, bi_rgb_std : 4, pos_w : 3, pos_xy_std : 3  mIoU : 73.6140\n",
      "bi_w : 4, bi_xy_std : 90, bi_rgb_std : 5, pos_w : 3, pos_xy_std : 3  mIoU : 73.5078\n",
      "bi_w : 4, bi_xy_std : 90, bi_rgb_std : 6, pos_w : 3, pos_xy_std : 3  mIoU : 73.4116\n",
      "bi_w : 4, bi_xy_std : 100, bi_rgb_std : 3, pos_w : 3, pos_xy_std : 3  mIoU : 73.6338\n",
      "bi_w : 4, bi_xy_std : 100, bi_rgb_std : 4, pos_w : 3, pos_xy_std : 3  mIoU : 73.5396\n",
      "bi_w : 4, bi_xy_std : 100, bi_rgb_std : 5, pos_w : 3, pos_xy_std : 3  mIoU : 73.4230\n",
      "bi_w : 4, bi_xy_std : 100, bi_rgb_std : 6, pos_w : 3, pos_xy_std : 3  mIoU : 73.3106\n",
      "bi_w : 5, bi_xy_std : 30, bi_rgb_std : 3, pos_w : 3, pos_xy_std : 3  mIoU : 73.8672\n",
      "\n",
      "*********************************** Best mIoU Updated ***********************************\n",
      "bi_w : 5, bi_xy_std : 30, bi_rgb_std : 4, pos_w : 3, pos_xy_std : 3  mIoU : 73.9074\n",
      "bi_w : 5, bi_xy_std : 30, bi_rgb_std : 5, pos_w : 3, pos_xy_std : 3  mIoU : 73.8996\n",
      "bi_w : 5, bi_xy_std : 30, bi_rgb_std : 6, pos_w : 3, pos_xy_std : 3  mIoU : 73.8826\n",
      "\n",
      "*********************************** Best mIoU Updated ***********************************\n",
      "bi_w : 5, bi_xy_std : 40, bi_rgb_std : 3, pos_w : 3, pos_xy_std : 3  mIoU : 73.9084\n",
      "\n",
      "*********************************** Best mIoU Updated ***********************************\n",
      "bi_w : 5, bi_xy_std : 40, bi_rgb_std : 4, pos_w : 3, pos_xy_std : 3  mIoU : 73.9209\n",
      "bi_w : 5, bi_xy_std : 40, bi_rgb_std : 5, pos_w : 3, pos_xy_std : 3  mIoU : 73.8950\n",
      "bi_w : 5, bi_xy_std : 40, bi_rgb_std : 6, pos_w : 3, pos_xy_std : 3  mIoU : 73.8425\n",
      "\n",
      "*********************************** Best mIoU Updated ***********************************\n",
      "bi_w : 5, bi_xy_std : 50, bi_rgb_std : 3, pos_w : 3, pos_xy_std : 3  mIoU : 73.9364\n",
      "bi_w : 5, bi_xy_std : 50, bi_rgb_std : 4, pos_w : 3, pos_xy_std : 3  mIoU : 73.9179\n",
      "bi_w : 5, bi_xy_std : 50, bi_rgb_std : 5, pos_w : 3, pos_xy_std : 3  mIoU : 73.8576\n",
      "bi_w : 5, bi_xy_std : 50, bi_rgb_std : 6, pos_w : 3, pos_xy_std : 3  mIoU : 73.7863\n",
      "bi_w : 5, bi_xy_std : 60, bi_rgb_std : 3, pos_w : 3, pos_xy_std : 3  mIoU : 73.8467\n",
      "bi_w : 5, bi_xy_std : 60, bi_rgb_std : 4, pos_w : 3, pos_xy_std : 3  mIoU : 73.7814\n",
      "bi_w : 5, bi_xy_std : 60, bi_rgb_std : 5, pos_w : 3, pos_xy_std : 3  mIoU : 73.6988\n",
      "bi_w : 5, bi_xy_std : 60, bi_rgb_std : 6, pos_w : 3, pos_xy_std : 3  mIoU : 73.6124\n"
     ]
    },
    {
     "name": "stdout",
     "output_type": "stream",
     "text": [
      "bi_w : 5, bi_xy_std : 70, bi_rgb_std : 3, pos_w : 3, pos_xy_std : 3  mIoU : 73.7510\n",
      "bi_w : 5, bi_xy_std : 70, bi_rgb_std : 4, pos_w : 3, pos_xy_std : 3  mIoU : 73.6551\n",
      "bi_w : 5, bi_xy_std : 70, bi_rgb_std : 5, pos_w : 3, pos_xy_std : 3  mIoU : 73.5514\n",
      "bi_w : 5, bi_xy_std : 70, bi_rgb_std : 6, pos_w : 3, pos_xy_std : 3  mIoU : 73.4435\n",
      "bi_w : 5, bi_xy_std : 80, bi_rgb_std : 3, pos_w : 3, pos_xy_std : 3  mIoU : 73.6550\n",
      "bi_w : 5, bi_xy_std : 80, bi_rgb_std : 4, pos_w : 3, pos_xy_std : 3  mIoU : 73.5347\n",
      "bi_w : 5, bi_xy_std : 80, bi_rgb_std : 5, pos_w : 3, pos_xy_std : 3  mIoU : 73.4067\n",
      "bi_w : 5, bi_xy_std : 80, bi_rgb_std : 6, pos_w : 3, pos_xy_std : 3  mIoU : 73.2817\n",
      "bi_w : 5, bi_xy_std : 90, bi_rgb_std : 3, pos_w : 3, pos_xy_std : 3  mIoU : 73.5755\n",
      "bi_w : 5, bi_xy_std : 90, bi_rgb_std : 4, pos_w : 3, pos_xy_std : 3  mIoU : 73.4372\n",
      "bi_w : 5, bi_xy_std : 90, bi_rgb_std : 5, pos_w : 3, pos_xy_std : 3  mIoU : 73.2789\n",
      "bi_w : 5, bi_xy_std : 90, bi_rgb_std : 6, pos_w : 3, pos_xy_std : 3  mIoU : 73.1338\n",
      "bi_w : 5, bi_xy_std : 100, bi_rgb_std : 3, pos_w : 3, pos_xy_std : 3  mIoU : 73.4730\n",
      "bi_w : 5, bi_xy_std : 100, bi_rgb_std : 4, pos_w : 3, pos_xy_std : 3  mIoU : 73.3146\n",
      "bi_w : 5, bi_xy_std : 100, bi_rgb_std : 5, pos_w : 3, pos_xy_std : 3  mIoU : 73.1436\n",
      "bi_w : 5, bi_xy_std : 100, bi_rgb_std : 6, pos_w : 3, pos_xy_std : 3  mIoU : 72.9789\n",
      "bi_w : 6, bi_xy_std : 30, bi_rgb_std : 3, pos_w : 3, pos_xy_std : 3  mIoU : 73.8717\n",
      "bi_w : 6, bi_xy_std : 30, bi_rgb_std : 4, pos_w : 3, pos_xy_std : 3  mIoU : 73.9031\n",
      "bi_w : 6, bi_xy_std : 30, bi_rgb_std : 5, pos_w : 3, pos_xy_std : 3  mIoU : 73.8830\n",
      "bi_w : 6, bi_xy_std : 30, bi_rgb_std : 6, pos_w : 3, pos_xy_std : 3  mIoU : 73.8580\n",
      "bi_w : 6, bi_xy_std : 40, bi_rgb_std : 3, pos_w : 3, pos_xy_std : 3  mIoU : 73.8983\n",
      "bi_w : 6, bi_xy_std : 40, bi_rgb_std : 4, pos_w : 3, pos_xy_std : 3  mIoU : 73.9015\n",
      "bi_w : 6, bi_xy_std : 40, bi_rgb_std : 5, pos_w : 3, pos_xy_std : 3  mIoU : 73.8648\n",
      "bi_w : 6, bi_xy_std : 40, bi_rgb_std : 6, pos_w : 3, pos_xy_std : 3  mIoU : 73.7963\n",
      "bi_w : 6, bi_xy_std : 50, bi_rgb_std : 3, pos_w : 3, pos_xy_std : 3  mIoU : 73.8958\n",
      "bi_w : 6, bi_xy_std : 50, bi_rgb_std : 4, pos_w : 3, pos_xy_std : 3  mIoU : 73.8501\n",
      "bi_w : 6, bi_xy_std : 50, bi_rgb_std : 5, pos_w : 3, pos_xy_std : 3  mIoU : 73.7602\n",
      "bi_w : 6, bi_xy_std : 50, bi_rgb_std : 6, pos_w : 3, pos_xy_std : 3  mIoU : 73.6696\n",
      "bi_w : 6, bi_xy_std : 60, bi_rgb_std : 3, pos_w : 3, pos_xy_std : 3  mIoU : 73.7592\n",
      "bi_w : 6, bi_xy_std : 60, bi_rgb_std : 4, pos_w : 3, pos_xy_std : 3  mIoU : 73.6455\n",
      "bi_w : 6, bi_xy_std : 60, bi_rgb_std : 5, pos_w : 3, pos_xy_std : 3  mIoU : 73.5278\n",
      "bi_w : 6, bi_xy_std : 60, bi_rgb_std : 6, pos_w : 3, pos_xy_std : 3  mIoU : 73.4039\n",
      "bi_w : 6, bi_xy_std : 70, bi_rgb_std : 3, pos_w : 3, pos_xy_std : 3  mIoU : 73.6251\n",
      "bi_w : 6, bi_xy_std : 70, bi_rgb_std : 4, pos_w : 3, pos_xy_std : 3  mIoU : 73.4721\n",
      "bi_w : 6, bi_xy_std : 70, bi_rgb_std : 5, pos_w : 3, pos_xy_std : 3  mIoU : 73.3326\n",
      "bi_w : 6, bi_xy_std : 70, bi_rgb_std : 6, pos_w : 3, pos_xy_std : 3  mIoU : 73.1807\n",
      "bi_w : 6, bi_xy_std : 80, bi_rgb_std : 3, pos_w : 3, pos_xy_std : 3  mIoU : 73.4803\n",
      "bi_w : 6, bi_xy_std : 80, bi_rgb_std : 4, pos_w : 3, pos_xy_std : 3  mIoU : 73.3056\n",
      "bi_w : 6, bi_xy_std : 80, bi_rgb_std : 5, pos_w : 3, pos_xy_std : 3  mIoU : 73.1192\n",
      "bi_w : 6, bi_xy_std : 80, bi_rgb_std : 6, pos_w : 3, pos_xy_std : 3  mIoU : 72.9534\n",
      "bi_w : 6, bi_xy_std : 90, bi_rgb_std : 3, pos_w : 3, pos_xy_std : 3  mIoU : 73.3544\n",
      "bi_w : 6, bi_xy_std : 90, bi_rgb_std : 4, pos_w : 3, pos_xy_std : 3  mIoU : 73.1405\n",
      "bi_w : 6, bi_xy_std : 90, bi_rgb_std : 5, pos_w : 3, pos_xy_std : 3  mIoU : 72.9243\n",
      "bi_w : 6, bi_xy_std : 90, bi_rgb_std : 6, pos_w : 3, pos_xy_std : 3  mIoU : 72.7303\n",
      "bi_w : 6, bi_xy_std : 100, bi_rgb_std : 3, pos_w : 3, pos_xy_std : 3  mIoU : 73.1858\n",
      "bi_w : 6, bi_xy_std : 100, bi_rgb_std : 4, pos_w : 3, pos_xy_std : 3  mIoU : 72.9502\n",
      "bi_w : 6, bi_xy_std : 100, bi_rgb_std : 5, pos_w : 3, pos_xy_std : 3  mIoU : 72.7255\n",
      "bi_w : 6, bi_xy_std : 100, bi_rgb_std : 6, pos_w : 3, pos_xy_std : 3  mIoU : 72.5027\n"
     ]
    }
   ],
   "source": [
    "DeepLab_v2.grid_search(loader, iter_max, bi_ws, bi_xy_stds, bi_rgb_stds, pos_ws, pos_xy_stds)"
   ]
  }
 ],
 "metadata": {
  "kernelspec": {
   "display_name": "Python 3",
   "language": "python",
   "name": "python3"
  },
  "language_info": {
   "codemirror_mode": {
    "name": "ipython",
    "version": 3
   },
   "file_extension": ".py",
   "mimetype": "text/x-python",
   "name": "python",
   "nbconvert_exporter": "python",
   "pygments_lexer": "ipython3",
   "version": "3.6.9"
  }
 },
 "nbformat": 4,
 "nbformat_minor": 4
}
