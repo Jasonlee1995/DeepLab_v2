{
 "cells": [
  {
   "cell_type": "markdown",
   "metadata": {},
   "source": [
    "# ResNet101_ASPP\n",
    "\n",
    "## 1. Environment Setup\n",
    "### 1.0. Check GPU"
   ]
  },
  {
   "cell_type": "code",
   "execution_count": 1,
   "metadata": {},
   "outputs": [
    {
     "name": "stdout",
     "output_type": "stream",
     "text": [
      "nvcc: NVIDIA (R) Cuda compiler driver\r\n",
      "Copyright (c) 2005-2020 NVIDIA Corporation\r\n",
      "Built on Wed_Jul_22_19:09:09_PDT_2020\r\n",
      "Cuda compilation tools, release 11.0, V11.0.221\r\n",
      "Build cuda_11.0_bu.TC445_37.28845127_0\r\n"
     ]
    }
   ],
   "source": [
    "!nvcc --version"
   ]
  },
  {
   "cell_type": "code",
   "execution_count": null,
   "metadata": {},
   "outputs": [],
   "source": []
  },
  {
   "cell_type": "markdown",
   "metadata": {},
   "source": [
    "### 1.1. Install Pytorch and torchvision"
   ]
  },
  {
   "cell_type": "code",
   "execution_count": 2,
   "metadata": {},
   "outputs": [
    {
     "name": "stdout",
     "output_type": "stream",
     "text": [
      "Looking in links: https://download.pytorch.org/whl/torch_stable.html\n",
      "Requirement already satisfied: torch==1.7.1+cu110 in /usr/local/lib/python3.6/dist-packages (1.7.1+cu110)\n",
      "Requirement already satisfied: torchvision==0.8.2+cu110 in /usr/local/lib/python3.6/dist-packages (0.8.2+cu110)\n",
      "Requirement already satisfied: torchaudio===0.7.2 in /usr/local/lib/python3.6/dist-packages (0.7.2)\n",
      "Requirement already satisfied: typing-extensions in /usr/local/lib/python3.6/dist-packages (from torch==1.7.1+cu110) (3.7.4.3)\n",
      "Requirement already satisfied: numpy in /usr/local/lib/python3.6/dist-packages (from torch==1.7.1+cu110) (1.19.4)\n",
      "Requirement already satisfied: dataclasses; python_version < \"3.7\" in /usr/local/lib/python3.6/dist-packages (from torch==1.7.1+cu110) (0.8)\n",
      "Requirement already satisfied: pillow>=4.1.1 in /usr/local/lib/python3.6/dist-packages (from torchvision==0.8.2+cu110) (8.0.1)\n",
      "\u001b[33mWARNING: You are using pip version 20.2.4; however, version 21.0.1 is available.\n",
      "You should consider upgrading via the '/usr/bin/python3 -m pip install --upgrade pip' command.\u001b[0m\n"
     ]
    }
   ],
   "source": [
    "!pip install torch==1.7.1+cu110 torchvision==0.8.2+cu110 torchaudio===0.7.2 -f https://download.pytorch.org/whl/torch_stable.html"
   ]
  },
  {
   "cell_type": "code",
   "execution_count": null,
   "metadata": {},
   "outputs": [],
   "source": []
  },
  {
   "cell_type": "markdown",
   "metadata": {},
   "source": [
    "### 1.2. Install scipy"
   ]
  },
  {
   "cell_type": "code",
   "execution_count": 3,
   "metadata": {},
   "outputs": [
    {
     "name": "stdout",
     "output_type": "stream",
     "text": [
      "Requirement already satisfied: scipy in /usr/local/lib/python3.6/dist-packages (1.5.4)\n",
      "Requirement already satisfied: numpy>=1.14.5 in /usr/local/lib/python3.6/dist-packages (from scipy) (1.19.4)\n",
      "\u001b[33mWARNING: You are using pip version 20.2.4; however, version 21.0.1 is available.\n",
      "You should consider upgrading via the '/usr/bin/python3 -m pip install --upgrade pip' command.\u001b[0m\n"
     ]
    }
   ],
   "source": [
    "!pip install scipy"
   ]
  },
  {
   "cell_type": "code",
   "execution_count": null,
   "metadata": {},
   "outputs": [],
   "source": []
  },
  {
   "cell_type": "markdown",
   "metadata": {},
   "source": [
    "### 1.3. Install PyDenseCRF"
   ]
  },
  {
   "cell_type": "code",
   "execution_count": 4,
   "metadata": {},
   "outputs": [
    {
     "name": "stdout",
     "output_type": "stream",
     "text": [
      "Requirement already satisfied: pydensecrf in /usr/local/lib/python3.6/dist-packages (1.0rc3)\n",
      "\u001b[33mWARNING: You are using pip version 20.2.4; however, version 21.0.1 is available.\n",
      "You should consider upgrading via the '/usr/bin/python3 -m pip install --upgrade pip' command.\u001b[0m\n"
     ]
    }
   ],
   "source": [
    "!pip install pydensecrf"
   ]
  },
  {
   "cell_type": "code",
   "execution_count": null,
   "metadata": {},
   "outputs": [],
   "source": []
  },
  {
   "cell_type": "markdown",
   "metadata": {},
   "source": [
    "### 1.4. Import"
   ]
  },
  {
   "cell_type": "code",
   "execution_count": 5,
   "metadata": {},
   "outputs": [],
   "source": [
    "import augmentation, model, train\n",
    "\n",
    "import torch\n",
    "import torchvision\n",
    "\n",
    "# Ignore Warning\n",
    "import warnings\n",
    "warnings.filterwarnings(action='ignore')"
   ]
  },
  {
   "cell_type": "code",
   "execution_count": null,
   "metadata": {},
   "outputs": [],
   "source": []
  },
  {
   "cell_type": "markdown",
   "metadata": {},
   "source": [
    "## 2. Data Preprocessing"
   ]
  },
  {
   "cell_type": "code",
   "execution_count": 6,
   "metadata": {},
   "outputs": [],
   "source": [
    "train_batch_size = 10\n",
    "test_batch_size = 1"
   ]
  },
  {
   "cell_type": "code",
   "execution_count": 7,
   "metadata": {},
   "outputs": [],
   "source": [
    "train_tf = augmentation.Mask_Aug(transforms=[augmentation.ToTensor(), augmentation.PILToTensor(), \n",
    "                                             augmentation.RandomResizedCrop((256, 256), scale=(1., 1.), ratio=(0.5, 1.5)), \n",
    "                                             augmentation.RandomHorizontalFlip(),\n",
    "                                             augmentation.Normalize(mean=[0.485, 0.456, 0.406], std=[0.229, 0.224, 0.225])])\n",
    "\n",
    "val_tf = augmentation.Mask_Aug(transforms=[augmentation.ToTensor(), augmentation.PILToTensor(), \n",
    "                                           augmentation.Resize(256),\n",
    "                                           augmentation.Normalize(mean=[0.485, 0.456, 0.406], std=[0.229, 0.224, 0.225])])\n",
    "\n",
    "train_dataset = torchvision.datasets.SBDataset(root='./', image_set='train_noval', mode='segmentation', download=False, transforms=train_tf)\n",
    "train_loader = torch.utils.data.DataLoader(train_dataset, batch_size=train_batch_size, shuffle=True, num_workers=4, pin_memory=True)\n",
    "\n",
    "val_dataset = torchvision.datasets.VOCSegmentation(root='./', year='2012', image_set='val', download=False, transforms=val_tf)\n",
    "val_loader = torch.utils.data.DataLoader(val_dataset, batch_size=test_batch_size, shuffle=False, num_workers=4, pin_memory=True)"
   ]
  },
  {
   "cell_type": "code",
   "execution_count": null,
   "metadata": {},
   "outputs": [],
   "source": []
  },
  {
   "cell_type": "markdown",
   "metadata": {},
   "source": [
    "## 3. Train Model"
   ]
  },
  {
   "cell_type": "code",
   "execution_count": 8,
   "metadata": {},
   "outputs": [],
   "source": [
    "num_classes = 21\n",
    "atrous_rates = [6, 12, 18, 24]\n",
    "scales = [0.5, 0.75, 1]\n",
    "ignore_index = 255\n",
    "\n",
    "gpu_id = 7\n",
    "print_freq = 200\n",
    "epoch_print = 10\n",
    "\n",
    "save = True\n",
    "epochs = 150\n",
    "\n",
    "lr = 0.001\n",
    "momentum = 0.9\n",
    "weight_decay = 0.0005"
   ]
  },
  {
   "cell_type": "code",
   "execution_count": 9,
   "metadata": {
    "scrolled": true
   },
   "outputs": [],
   "source": [
    "MSC_ResNet101_ASPP = train.MSC_ResNet101_ASPP(num_classes=num_classes, atrous_rates=atrous_rates, \n",
    "                                              scales=scales, ignore_index=ignore_index,\n",
    "                                              gpu_id=gpu_id, print_freq=print_freq, epoch_print=epoch_print)"
   ]
  },
  {
   "cell_type": "code",
   "execution_count": 10,
   "metadata": {},
   "outputs": [
    {
     "name": "stdout",
     "output_type": "stream",
     "text": [
      "Epoch 1 Started...\n",
      "\n",
      "*********************************** Best mIoU Updated ***********************************\n",
      "Iteration : 200 - Train Loss : 0.479254, Test Loss : 0.419549, Test mIoU : 54.5784\n",
      "Saved Best Model\n",
      "\n",
      "\n",
      "*********************************** Best mIoU Updated ***********************************\n",
      "Iteration : 400 - Train Loss : 0.378670, Test Loss : 0.338870, Test mIoU : 59.1379\n",
      "Saved Best Model\n",
      "\n",
      "Epoch 11 Started...\n",
      "\n",
      "*********************************** Best mIoU Updated ***********************************\n",
      "Iteration : 200 - Train Loss : 0.073195, Test Loss : 0.246744, Test mIoU : 70.6672\n",
      "Saved Best Model\n",
      "\n",
      "\n",
      "*********************************** Best mIoU Updated ***********************************\n",
      "Iteration : 400 - Train Loss : 0.161293, Test Loss : 0.241482, Test mIoU : 71.2737\n",
      "Saved Best Model\n",
      "\n",
      "Epoch 21 Started...\n",
      "\n",
      "*********************************** Best mIoU Updated ***********************************\n",
      "Iteration : 200 - Train Loss : 0.126879, Test Loss : 0.248051, Test mIoU : 71.8538\n",
      "Saved Best Model\n",
      "\n",
      "Iteration : 400 - Train Loss : 0.093107, Test Loss : 0.246243, Test mIoU : 71.7531\n",
      "Epoch 31 Started...\n",
      "\n",
      "*********************************** Best mIoU Updated ***********************************\n",
      "Iteration : 200 - Train Loss : 0.089647, Test Loss : 0.250426, Test mIoU : 72.0033\n",
      "Saved Best Model\n",
      "\n",
      "\n",
      "*********************************** Best mIoU Updated ***********************************\n",
      "Iteration : 400 - Train Loss : 0.107558, Test Loss : 0.248835, Test mIoU : 72.1916\n",
      "Saved Best Model\n",
      "\n",
      "Epoch 41 Started...\n",
      "Iteration : 200 - Train Loss : 0.062472, Test Loss : 0.251057, Test mIoU : 72.0631\n",
      "Iteration : 400 - Train Loss : 0.080929, Test Loss : 0.252449, Test mIoU : 72.0851\n",
      "Epoch 51 Started...\n",
      "\n",
      "*********************************** Best mIoU Updated ***********************************\n",
      "Iteration : 200 - Train Loss : 0.077018, Test Loss : 0.249828, Test mIoU : 72.2294\n",
      "Saved Best Model\n",
      "\n",
      "\n",
      "*********************************** Best mIoU Updated ***********************************\n",
      "Iteration : 400 - Train Loss : 0.065508, Test Loss : 0.249740, Test mIoU : 72.2986\n",
      "Saved Best Model\n",
      "\n",
      "Epoch 61 Started...\n",
      "Iteration : 200 - Train Loss : 0.068925, Test Loss : 0.255259, Test mIoU : 72.1446\n",
      "Iteration : 400 - Train Loss : 0.083083, Test Loss : 0.252907, Test mIoU : 72.1485\n",
      "Epoch 71 Started...\n",
      "Iteration : 200 - Train Loss : 0.061670, Test Loss : 0.252309, Test mIoU : 72.2030\n",
      "Iteration : 400 - Train Loss : 0.080110, Test Loss : 0.251158, Test mIoU : 72.1124\n",
      "Epoch 81 Started...\n",
      "\n",
      "*********************************** Best mIoU Updated ***********************************\n",
      "Iteration : 200 - Train Loss : 0.049127, Test Loss : 0.247920, Test mIoU : 72.3918\n",
      "Saved Best Model\n",
      "\n",
      "Iteration : 400 - Train Loss : 0.098111, Test Loss : 0.250950, Test mIoU : 72.1257\n",
      "Epoch 91 Started...\n",
      "Iteration : 200 - Train Loss : 0.085409, Test Loss : 0.251842, Test mIoU : 72.1822\n",
      "Iteration : 400 - Train Loss : 0.133786, Test Loss : 0.251760, Test mIoU : 72.2265\n",
      "Epoch 101 Started...\n",
      "Iteration : 200 - Train Loss : 0.098558, Test Loss : 0.246316, Test mIoU : 72.3344\n",
      "Iteration : 400 - Train Loss : 0.095634, Test Loss : 0.247529, Test mIoU : 72.2988\n",
      "Epoch 111 Started...\n",
      "Iteration : 200 - Train Loss : 0.053480, Test Loss : 0.246254, Test mIoU : 72.3314\n",
      "Iteration : 400 - Train Loss : 0.052865, Test Loss : 0.249006, Test mIoU : 72.2678\n",
      "Epoch 121 Started...\n",
      "Iteration : 200 - Train Loss : 0.129573, Test Loss : 0.253271, Test mIoU : 72.1045\n",
      "Iteration : 400 - Train Loss : 0.093666, Test Loss : 0.251324, Test mIoU : 72.1346\n",
      "Epoch 131 Started...\n",
      "Iteration : 200 - Train Loss : 0.090598, Test Loss : 0.255496, Test mIoU : 71.8886\n",
      "Iteration : 400 - Train Loss : 0.081411, Test Loss : 0.249835, Test mIoU : 72.1845\n",
      "Epoch 141 Started...\n",
      "Iteration : 200 - Train Loss : 0.059098, Test Loss : 0.251630, Test mIoU : 72.1220\n",
      "Iteration : 400 - Train Loss : 0.097920, Test Loss : 0.250849, Test mIoU : 72.1787\n"
     ]
    }
   ],
   "source": [
    "MSC_ResNet101_ASPP.train(train_loader, val_loader, save=save, epochs=epochs, \n",
    "                         lr=lr, momentum=momentum, weight_decay=weight_decay)"
   ]
  }
 ],
 "metadata": {
  "kernelspec": {
   "display_name": "Python 3",
   "language": "python",
   "name": "python3"
  },
  "language_info": {
   "codemirror_mode": {
    "name": "ipython",
    "version": 3
   },
   "file_extension": ".py",
   "mimetype": "text/x-python",
   "name": "python",
   "nbconvert_exporter": "python",
   "pygments_lexer": "ipython3",
   "version": "3.6.9"
  }
 },
 "nbformat": 4,
 "nbformat_minor": 4
}
